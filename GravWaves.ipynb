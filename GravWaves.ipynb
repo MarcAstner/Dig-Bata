{
  "nbformat": 4,
  "nbformat_minor": 0,
  "metadata": {
    "colab": {
      "name": "GravWaves.ipynb",
      "provenance": [],
      "collapsed_sections": [],
      "authorship_tag": "ABX9TyOH7L1csqDJDKj6UDh+6QK8",
      "include_colab_link": true
    },
    "kernelspec": {
      "name": "python3",
      "display_name": "Python 3"
    }
  },
  "cells": [
    {
      "cell_type": "markdown",
      "metadata": {
        "id": "view-in-github",
        "colab_type": "text"
      },
      "source": [
        "<a href=\"https://colab.research.google.com/github/MarcAstner/Dig-Bata/blob/master/GravWaves.ipynb\" target=\"_parent\"><img src=\"https://colab.research.google.com/assets/colab-badge.svg\" alt=\"Open In Colab\"/></a>"
      ]
    },
    {
      "cell_type": "code",
      "metadata": {
        "id": "HL09JXbRiasN",
        "colab_type": "code",
        "colab": {}
      },
      "source": [
        "import numpy as np\n",
        "from scipy import integrate \n",
        "from scipy.misc import derivative\n",
        "from math import *"
      ],
      "execution_count": 0,
      "outputs": []
    },
    {
      "cell_type": "code",
      "metadata": {
        "id": "r9OMjYZZC9BY",
        "colab_type": "code",
        "colab": {}
      },
      "source": [
        "c = 299792458\n",
        "G = 6.67430 * 10**(-11)\n",
        "Ms = 1.989 * 10**30"
      ],
      "execution_count": 0,
      "outputs": []
    },
    {
      "cell_type": "code",
      "metadata": {
        "id": "IMd_-PlSmXq1",
        "colab_type": "code",
        "colab": {}
      },
      "source": [
        "def S(x):\n",
        "  return (9 *10**(-46))*((4.49*x**(-56))+(0.16*x**(-4.52))+0.52+(0.32*x**2))"
      ],
      "execution_count": 0,
      "outputs": []
    },
    {
      "cell_type": "code",
      "metadata": {
        "id": "FXnaAy_249tg",
        "colab_type": "code",
        "colab": {}
      },
      "source": [
        "def I(x):\n",
        "  return ((x**(-7/6)/S(x)))"
      ],
      "execution_count": 0,
      "outputs": []
    },
    {
      "cell_type": "code",
      "metadata": {
        "id": "6bkaW_pVT9Ea",
        "colab_type": "code",
        "colab": {}
      },
      "source": [
        "#observables\n",
        "m1 = 30 *Ms\n",
        "m2 = 30 *Ms\n",
        "M = m1 + m2\n",
        "v = (M*x*np.pi)**(1/3)\n",
        "psi = 1\n",
        "eta = (m1*m2)/(M**2)\n",
        "N_pta = 4\n",
        "tc = 1"
      ],
      "execution_count": 0,
      "outputs": []
    },
    {
      "cell_type": "code",
      "metadata": {
        "id": "2SZ0q29IZe2O",
        "colab_type": "code",
        "outputId": "c3a11b55-dd0d-454c-be1a-10ca5b2d5c47",
        "colab": {
          "base_uri": "https://localhost:8080/",
          "height": 51
        }
      },
      "source": [
        "array = []\n",
        "array.append(1)#a0\n",
        "array.append(0)#a1\n",
        "array.append((20/9)*((743/336)+((11/4)*eta)))#a2 ! write it as an function of eta\n",
        "array.append(-16*np.pi)#a3\n",
        "array.append((10)*((3058673/1016064)+((5429/1008)*eta)+((617/144)*eta**2)))#a4\n",
        "\n",
        "def psi_x(x):\n",
        "  sum_k = 0\n",
        "  for k in range(len(array)):\n",
        "        sum_k += array[k]*v**2\n",
        "        return (2*np.pi*x*tc)-(psi)-(np.pi/4)+(3/(128*eta*v**5))*sum_k\n",
        "print(array)\n",
        "\n",
        "def h_x(x):\n",
        "    psi = psi_x(x)\n",
        "    h_x = A*x**(-7/6)*np.exp(1j * psi)\n",
        "    return h_x\n",
        "\n",
        "print(h_x(x))"
      ],
      "execution_count": 0,
      "outputs": [
        {
          "output_type": "stream",
          "text": [
            "[1, 0, 6.441798941798942, -50.26548245743669, 46.245886085915856]\n",
            "(-1.5487358105400252e-24-7.105658479664057e-24j)\n"
          ],
          "name": "stdout"
        }
      ]
    },
    {
      "cell_type": "code",
      "metadata": {
        "id": "CGMJprtn3T8X",
        "colab_type": "code",
        "outputId": "6af48d89-9937-4a51-a265-da9fe2afed4d",
        "colab": {
          "base_uri": "https://localhost:8080/",
          "height": 34
        }
      },
      "source": [
        "#calculating A\n",
        "x = 150 #frequency\n",
        "SNR = 10\n",
        "fs = 40 #lower limit\n",
        "fu_conv = (c**3)*(1/G) #conversion needed because of simplyfing G and c to 1 \n",
        "fu = ((6**(3/2))*np.pi*M)**(-1)*fu_conv #upper limit\n",
        "\n",
        "A2 = SNR/(4*(integrate.quad(I, fs , fu)[0])) #gives out an array; only first index is used for further calculations\n",
        "\n",
        "A = np.sqrt(A2)\n",
        "\n",
        "print(A) #hertz"
      ],
      "execution_count": 0,
      "outputs": [
        {
          "output_type": "stream",
          "text": [
            "2.5145233326594496e-21\n"
          ],
          "name": "stdout"
        }
      ]
    },
    {
      "cell_type": "code",
      "metadata": {
        "id": "QYw9qvJEuKcQ",
        "colab_type": "code",
        "colab": {}
      },
      "source": [
        "def derive(function, value):\n",
        "    h = 0.00000000001\n",
        "    top = function(value + h) - function(value)\n",
        "    bottom = h\n",
        "    slope = top / bottom\n",
        "    return float(\"%.3f\" % slope)"
      ],
      "execution_count": 0,
      "outputs": []
    },
    {
      "cell_type": "code",
      "metadata": {
        "id": "uMD1Rnahju8K",
        "colab_type": "code",
        "colab": {}
      },
      "source": [
        "def R():\n",
        "  "
      ],
      "execution_count": 0,
      "outputs": []
    },
    {
      "cell_type": "code",
      "metadata": {
        "id": "AEpRr0LOjXoe",
        "colab_type": "code",
        "colab": {}
      },
      "source": [
        "for i in range ():\n",
        "  for j in range ():\n",
        "    result = 4*(integrate.quad(R, fs, fu))"
      ],
      "execution_count": 0,
      "outputs": []
    },
    {
      "cell_type": "code",
      "metadata": {
        "id": "B6rh8-vKFUyS",
        "colab_type": "code",
        "outputId": "accca24f-addd-4bc5-f6ec-5c4e79c3f159",
        "colab": {
          "base_uri": "https://localhost:8080/",
          "height": 170
        }
      },
      "source": [
        "mat = np.matrix ([[0, 1, 2, 3], [4, 5, 6, 7], [8, 9, 10, 11], [12, 13, 14, 15]])\n",
        "\n",
        "f_matrix =np.zeros ((4,4), dtype = int)\n",
        "print (f_matrix)\n",
        "print(mat)\n",
        "print(mat.diagonal(0))\n",
        "\n"
      ],
      "execution_count": 0,
      "outputs": [
        {
          "output_type": "stream",
          "text": [
            "[[0 0 0 0]\n",
            " [0 0 0 0]\n",
            " [0 0 0 0]\n",
            " [0 0 0 0]]\n",
            "[[ 0  1  2  3]\n",
            " [ 4  5  6  7]\n",
            " [ 8  9 10 11]\n",
            " [12 13 14 15]]\n",
            "[[ 0  5 10 15]]\n"
          ],
          "name": "stdout"
        }
      ]
    }
  ]
}